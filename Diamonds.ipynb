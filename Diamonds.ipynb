{
 "cells": [
  {
   "cell_type": "markdown",
   "id": "ebb7d873",
   "metadata": {},
   "source": [
    "<h1>About The Dataset</h1>\n",
    "\n",
    "<h2>Context</h2>\n",
    "This classic dataset contains the prices and other attributes of almost 54,000 diamonds. It's a great dataset for beginners learning to work with data analysis and visualization.\n",
    "\n",
    "<h2>Content</h2>\n",
    "price price in US dollars (\\$326--\\$18,823)\n",
    "\n",
    "carat weight of the diamond (0.2--5.01)\n",
    "\n",
    "cut quality of the cut (Fair, Good, Very Good, Premium, Ideal)\n",
    "\n",
    "color diamond colour, from J (worst) to D (best)\n",
    "\n",
    "clarity a measurement of how clear the diamond is (I1 (worst), SI2, SI1, VS2, VS1, VVS2, VVS1, IF (best))\n",
    "\n",
    "x length in mm (0--10.74)\n",
    "\n",
    "y width in mm (0--58.9)\n",
    "\n",
    "z depth in mm (0--31.8)\n",
    "\n",
    "depth total depth percentage = z / mean(x, y) = 2 * z / (x + y) (43--79)\n",
    "\n",
    "table width of top of diamond relative to widest point (43--95)"
   ]
  },
  {
   "cell_type": "markdown",
   "id": "8ccf974b",
   "metadata": {},
   "source": [
    "<h1>Dataset Import & Preparation</h1>"
   ]
  },
  {
   "cell_type": "code",
   "execution_count": 2,
   "id": "7dedbc18",
   "metadata": {},
   "outputs": [],
   "source": [
    "import pandas as pd\n",
    "import numpy as np\n",
    "import os\n",
    "from scipy.stats import shapiro\n",
    "from pingouin import multivariate_normality\n",
    "import seaborn as sns\n",
    "import matplotlib.pyplot as plt\n",
    "\n",
    "from statsmodels.stats.outliers_influence import variance_inflation_factor\n",
    "from sklearn.preprocessing import RobustScaler\n",
    "from sklearn.linear_model import ElasticNet\n"
   ]
  },
  {
   "cell_type": "code",
   "execution_count": 3,
   "id": "6e0718d4",
   "metadata": {},
   "outputs": [],
   "source": [
    "df = pd.read_csv(\"diamonds.csv\", sep=\",\", engine=\"python\")\n",
    "df.drop([\"index\"],axis=1, inplace=True)\n",
    "#df.head()"
   ]
  },
  {
   "cell_type": "code",
   "execution_count": 4,
   "id": "aad3cf66",
   "metadata": {},
   "outputs": [
    {
     "name": "stdout",
     "output_type": "stream",
     "text": [
      "✅ NO MISSING VALUES FOUND\n"
     ]
    }
   ],
   "source": [
    "# Missing value Checks\n",
    "missing = df.isnull().sum()\n",
    "\n",
    "missing_pct = (missing / len(df)) * 100\n",
    "missing_df = pd.DataFrame({'Missing Count': missing, 'Missing %': missing_pct})\n",
    "missing_df = missing_df[missing_df['Missing Count'] > 0]\n",
    "\n",
    "if not missing_df.empty:\n",
    "    print(\"❌ MISSING VALUES DETECTED:\")\n",
    "    print(missing_df.sort_values('Missing %', ascending=False).to_string())\n",
    "else:\n",
    "    print(\"✅ NO MISSING VALUES FOUND\")"
   ]
  },
  {
   "cell_type": "code",
   "execution_count": null,
   "id": "def03d72",
   "metadata": {},
   "outputs": [],
   "source": [
    "df.info() #or Describe"
   ]
  },
  {
   "cell_type": "code",
   "execution_count": 5,
   "id": "6f7f7015",
   "metadata": {},
   "outputs": [
    {
     "name": "stdout",
     "output_type": "stream",
     "text": [
      "Categorical columns are:\n",
      " ['cut', 'color', 'clarity'] \n",
      " Continous ones are:\n",
      " ['carat', 'depth', 'table', 'price', 'x', 'y', 'z']\n",
      "\n",
      "Value Distribution (%):\n",
      " cut\n",
      "Ideal        39.95\n",
      "Premium      25.57\n",
      "Very Good    22.40\n",
      "Good          9.10\n",
      "Fair          2.98\n",
      "\n",
      "Value Distribution (%):\n",
      " color\n",
      "G    20.93\n",
      "E    18.16\n",
      "F    17.69\n",
      "H    15.39\n",
      "D    12.56\n",
      "I    10.05\n",
      "J     5.21\n",
      "\n",
      "Value Distribution (%):\n",
      " clarity\n",
      "SI1     24.22\n",
      "VS2     22.73\n",
      "SI2     17.04\n",
      "VS1     15.15\n",
      "VVS2     9.39\n",
      "VVS1     6.78\n",
      "IF       3.32\n",
      "I1       1.37\n"
     ]
    }
   ],
   "source": [
    "continuous_cols = []\n",
    "categorical_cols = []\n",
    "\n",
    "for col in df.columns:\n",
    "    if df[col].nunique() <= 10:\n",
    "        categorical_cols.append(col)\n",
    "\n",
    "    else:\n",
    "        continuous_cols.append(col)\n",
    "\n",
    "print(\"Categorical columns are:\\n\",categorical_cols,\"\\n Continous ones are:\\n\",continuous_cols)\n",
    "for col in categorical_cols:\n",
    "    freq = df[col].value_counts(normalize=True) * 100\n",
    "    print(\"\\nValue Distribution (%):\\n\",freq.round(2).to_string())\n"
   ]
  },
  {
   "cell_type": "code",
   "execution_count": 6,
   "id": "8942a152",
   "metadata": {},
   "outputs": [
    {
     "name": "stdout",
     "output_type": "stream",
     "text": [
      "carat: Non-normal (p=0.0000)\n",
      "depth: Non-normal (p=0.0000)\n",
      "table: Non-normal (p=0.0000)\n",
      "price: Non-normal (p=0.0000)\n",
      "x: Non-normal (p=0.0000)\n",
      "y: Non-normal (p=0.0000)\n",
      "z: Non-normal (p=0.0000)\n"
     ]
    },
    {
     "name": "stderr",
     "output_type": "stream",
     "text": [
      "c:\\ProgramData\\anaconda3\\Lib\\site-packages\\scipy\\stats\\_morestats.py:1882: UserWarning: p-value may not be accurate for N > 5000.\n",
      "  warnings.warn(\"p-value may not be accurate for N > 5000.\")\n"
     ]
    }
   ],
   "source": [
    "#multivariate_normality(df[continuous_cols], alpha=.05)\n",
    "\n",
    "for col in continuous_cols:\n",
    "    stat, p = shapiro(df[col].dropna())\n",
    "    print(f\"{col}: {'Normal' if p > 0.05 else 'Non-normal'} (p={p:.4f})\")"
   ]
  },
  {
   "cell_type": "code",
   "execution_count": null,
   "id": "e0fa9996",
   "metadata": {},
   "outputs": [
    {
     "name": "stdout",
     "output_type": "stream",
     "text": [
      "📊 Continuous Column Statistics:\n"
     ]
    },
    {
     "data": {
      "text/html": [
       "<style type=\"text/css\">\n",
       "#T_3fbcf_row0_col0, #T_3fbcf_row0_col1, #T_3fbcf_row0_col7 {\n",
       "  background-color: #08306b;\n",
       "  color: #f1f1f1;\n",
       "}\n",
       "#T_3fbcf_row1_col0, #T_3fbcf_row1_col1, #T_3fbcf_row1_col7, #T_3fbcf_row2_col0, #T_3fbcf_row2_col1, #T_3fbcf_row2_col7, #T_3fbcf_row3_col0, #T_3fbcf_row3_col1, #T_3fbcf_row3_col7, #T_3fbcf_row5_col0, #T_3fbcf_row5_col1, #T_3fbcf_row5_col7, #T_3fbcf_row6_col0, #T_3fbcf_row6_col1, #T_3fbcf_row6_col7, #T_3fbcf_row7_col0, #T_3fbcf_row7_col1, #T_3fbcf_row7_col7 {\n",
       "  background-color: #f7fbff;\n",
       "  color: #000000;\n",
       "}\n",
       "#T_3fbcf_row4_col0 {\n",
       "  background-color: #dae8f6;\n",
       "  color: #000000;\n",
       "}\n",
       "#T_3fbcf_row4_col1 {\n",
       "  background-color: #e6f0f9;\n",
       "  color: #000000;\n",
       "}\n",
       "#T_3fbcf_row4_col7 {\n",
       "  background-color: #c4daee;\n",
       "  color: #000000;\n",
       "}\n",
       "</style>\n",
       "<table id=\"T_3fbcf\">\n",
       "  <thead>\n",
       "    <tr>\n",
       "      <th class=\"blank level0\" >&nbsp;</th>\n",
       "      <th id=\"T_3fbcf_level0_col0\" class=\"col_heading level0 col0\" >Mean</th>\n",
       "      <th id=\"T_3fbcf_level0_col1\" class=\"col_heading level0 col1\" >Median</th>\n",
       "      <th id=\"T_3fbcf_level0_col2\" class=\"col_heading level0 col2\" >Mode</th>\n",
       "      <th id=\"T_3fbcf_level0_col3\" class=\"col_heading level0 col3\" >Min</th>\n",
       "      <th id=\"T_3fbcf_level0_col4\" class=\"col_heading level0 col4\" >Max</th>\n",
       "      <th id=\"T_3fbcf_level0_col5\" class=\"col_heading level0 col5\" >25%</th>\n",
       "      <th id=\"T_3fbcf_level0_col6\" class=\"col_heading level0 col6\" >75%</th>\n",
       "      <th id=\"T_3fbcf_level0_col7\" class=\"col_heading level0 col7\" >Std Dev</th>\n",
       "      <th id=\"T_3fbcf_level0_col8\" class=\"col_heading level0 col8\" >Skewness</th>\n",
       "      <th id=\"T_3fbcf_level0_col9\" class=\"col_heading level0 col9\" >Kurtosis</th>\n",
       "    </tr>\n",
       "    <tr>\n",
       "      <th class=\"index_name level0\" >Column</th>\n",
       "      <th class=\"blank col0\" >&nbsp;</th>\n",
       "      <th class=\"blank col1\" >&nbsp;</th>\n",
       "      <th class=\"blank col2\" >&nbsp;</th>\n",
       "      <th class=\"blank col3\" >&nbsp;</th>\n",
       "      <th class=\"blank col4\" >&nbsp;</th>\n",
       "      <th class=\"blank col5\" >&nbsp;</th>\n",
       "      <th class=\"blank col6\" >&nbsp;</th>\n",
       "      <th class=\"blank col7\" >&nbsp;</th>\n",
       "      <th class=\"blank col8\" >&nbsp;</th>\n",
       "      <th class=\"blank col9\" >&nbsp;</th>\n",
       "    </tr>\n",
       "  </thead>\n",
       "  <tbody>\n",
       "    <tr>\n",
       "      <th id=\"T_3fbcf_level0_row0\" class=\"row_heading level0 row0\" >index</th>\n",
       "      <td id=\"T_3fbcf_row0_col0\" class=\"data row0 col0\" >26970.50</td>\n",
       "      <td id=\"T_3fbcf_row0_col1\" class=\"data row0 col1\" >26970.50</td>\n",
       "      <td id=\"T_3fbcf_row0_col2\" class=\"data row0 col2\" >1.00</td>\n",
       "      <td id=\"T_3fbcf_row0_col3\" class=\"data row0 col3\" >1.000000</td>\n",
       "      <td id=\"T_3fbcf_row0_col4\" class=\"data row0 col4\" >53940.000000</td>\n",
       "      <td id=\"T_3fbcf_row0_col5\" class=\"data row0 col5\" >13485.750000</td>\n",
       "      <td id=\"T_3fbcf_row0_col6\" class=\"data row0 col6\" >40455.250000</td>\n",
       "      <td id=\"T_3fbcf_row0_col7\" class=\"data row0 col7\" >15571.28</td>\n",
       "      <td id=\"T_3fbcf_row0_col8\" class=\"data row0 col8\" >0.00</td>\n",
       "      <td id=\"T_3fbcf_row0_col9\" class=\"data row0 col9\" >-1.20</td>\n",
       "    </tr>\n",
       "    <tr>\n",
       "      <th id=\"T_3fbcf_level0_row1\" class=\"row_heading level0 row1\" >carat</th>\n",
       "      <td id=\"T_3fbcf_row1_col0\" class=\"data row1 col0\" >0.80</td>\n",
       "      <td id=\"T_3fbcf_row1_col1\" class=\"data row1 col1\" >0.70</td>\n",
       "      <td id=\"T_3fbcf_row1_col2\" class=\"data row1 col2\" >0.30</td>\n",
       "      <td id=\"T_3fbcf_row1_col3\" class=\"data row1 col3\" >0.200000</td>\n",
       "      <td id=\"T_3fbcf_row1_col4\" class=\"data row1 col4\" >5.010000</td>\n",
       "      <td id=\"T_3fbcf_row1_col5\" class=\"data row1 col5\" >0.400000</td>\n",
       "      <td id=\"T_3fbcf_row1_col6\" class=\"data row1 col6\" >1.040000</td>\n",
       "      <td id=\"T_3fbcf_row1_col7\" class=\"data row1 col7\" >0.47</td>\n",
       "      <td id=\"T_3fbcf_row1_col8\" class=\"data row1 col8\" >1.12</td>\n",
       "      <td id=\"T_3fbcf_row1_col9\" class=\"data row1 col9\" >1.26</td>\n",
       "    </tr>\n",
       "    <tr>\n",
       "      <th id=\"T_3fbcf_level0_row2\" class=\"row_heading level0 row2\" >depth</th>\n",
       "      <td id=\"T_3fbcf_row2_col0\" class=\"data row2 col0\" >61.75</td>\n",
       "      <td id=\"T_3fbcf_row2_col1\" class=\"data row2 col1\" >61.80</td>\n",
       "      <td id=\"T_3fbcf_row2_col2\" class=\"data row2 col2\" >62.00</td>\n",
       "      <td id=\"T_3fbcf_row2_col3\" class=\"data row2 col3\" >43.000000</td>\n",
       "      <td id=\"T_3fbcf_row2_col4\" class=\"data row2 col4\" >79.000000</td>\n",
       "      <td id=\"T_3fbcf_row2_col5\" class=\"data row2 col5\" >61.000000</td>\n",
       "      <td id=\"T_3fbcf_row2_col6\" class=\"data row2 col6\" >62.500000</td>\n",
       "      <td id=\"T_3fbcf_row2_col7\" class=\"data row2 col7\" >1.43</td>\n",
       "      <td id=\"T_3fbcf_row2_col8\" class=\"data row2 col8\" >-0.08</td>\n",
       "      <td id=\"T_3fbcf_row2_col9\" class=\"data row2 col9\" >5.74</td>\n",
       "    </tr>\n",
       "    <tr>\n",
       "      <th id=\"T_3fbcf_level0_row3\" class=\"row_heading level0 row3\" >table</th>\n",
       "      <td id=\"T_3fbcf_row3_col0\" class=\"data row3 col0\" >57.46</td>\n",
       "      <td id=\"T_3fbcf_row3_col1\" class=\"data row3 col1\" >57.00</td>\n",
       "      <td id=\"T_3fbcf_row3_col2\" class=\"data row3 col2\" >56.00</td>\n",
       "      <td id=\"T_3fbcf_row3_col3\" class=\"data row3 col3\" >43.000000</td>\n",
       "      <td id=\"T_3fbcf_row3_col4\" class=\"data row3 col4\" >95.000000</td>\n",
       "      <td id=\"T_3fbcf_row3_col5\" class=\"data row3 col5\" >56.000000</td>\n",
       "      <td id=\"T_3fbcf_row3_col6\" class=\"data row3 col6\" >59.000000</td>\n",
       "      <td id=\"T_3fbcf_row3_col7\" class=\"data row3 col7\" >2.23</td>\n",
       "      <td id=\"T_3fbcf_row3_col8\" class=\"data row3 col8\" >0.80</td>\n",
       "      <td id=\"T_3fbcf_row3_col9\" class=\"data row3 col9\" >2.80</td>\n",
       "    </tr>\n",
       "    <tr>\n",
       "      <th id=\"T_3fbcf_level0_row4\" class=\"row_heading level0 row4\" >price</th>\n",
       "      <td id=\"T_3fbcf_row4_col0\" class=\"data row4 col0\" >3932.80</td>\n",
       "      <td id=\"T_3fbcf_row4_col1\" class=\"data row4 col1\" >2401.00</td>\n",
       "      <td id=\"T_3fbcf_row4_col2\" class=\"data row4 col2\" >605.00</td>\n",
       "      <td id=\"T_3fbcf_row4_col3\" class=\"data row4 col3\" >326.000000</td>\n",
       "      <td id=\"T_3fbcf_row4_col4\" class=\"data row4 col4\" >18823.000000</td>\n",
       "      <td id=\"T_3fbcf_row4_col5\" class=\"data row4 col5\" >950.000000</td>\n",
       "      <td id=\"T_3fbcf_row4_col6\" class=\"data row4 col6\" >5324.250000</td>\n",
       "      <td id=\"T_3fbcf_row4_col7\" class=\"data row4 col7\" >3989.44</td>\n",
       "      <td id=\"T_3fbcf_row4_col8\" class=\"data row4 col8\" >1.62</td>\n",
       "      <td id=\"T_3fbcf_row4_col9\" class=\"data row4 col9\" >2.18</td>\n",
       "    </tr>\n",
       "    <tr>\n",
       "      <th id=\"T_3fbcf_level0_row5\" class=\"row_heading level0 row5\" >x</th>\n",
       "      <td id=\"T_3fbcf_row5_col0\" class=\"data row5 col0\" >5.73</td>\n",
       "      <td id=\"T_3fbcf_row5_col1\" class=\"data row5 col1\" >5.70</td>\n",
       "      <td id=\"T_3fbcf_row5_col2\" class=\"data row5 col2\" >4.37</td>\n",
       "      <td id=\"T_3fbcf_row5_col3\" class=\"data row5 col3\" >0.000000</td>\n",
       "      <td id=\"T_3fbcf_row5_col4\" class=\"data row5 col4\" >10.740000</td>\n",
       "      <td id=\"T_3fbcf_row5_col5\" class=\"data row5 col5\" >4.710000</td>\n",
       "      <td id=\"T_3fbcf_row5_col6\" class=\"data row5 col6\" >6.540000</td>\n",
       "      <td id=\"T_3fbcf_row5_col7\" class=\"data row5 col7\" >1.12</td>\n",
       "      <td id=\"T_3fbcf_row5_col8\" class=\"data row5 col8\" >0.38</td>\n",
       "      <td id=\"T_3fbcf_row5_col9\" class=\"data row5 col9\" >-0.62</td>\n",
       "    </tr>\n",
       "    <tr>\n",
       "      <th id=\"T_3fbcf_level0_row6\" class=\"row_heading level0 row6\" >y</th>\n",
       "      <td id=\"T_3fbcf_row6_col0\" class=\"data row6 col0\" >5.73</td>\n",
       "      <td id=\"T_3fbcf_row6_col1\" class=\"data row6 col1\" >5.71</td>\n",
       "      <td id=\"T_3fbcf_row6_col2\" class=\"data row6 col2\" >4.34</td>\n",
       "      <td id=\"T_3fbcf_row6_col3\" class=\"data row6 col3\" >0.000000</td>\n",
       "      <td id=\"T_3fbcf_row6_col4\" class=\"data row6 col4\" >58.900000</td>\n",
       "      <td id=\"T_3fbcf_row6_col5\" class=\"data row6 col5\" >4.720000</td>\n",
       "      <td id=\"T_3fbcf_row6_col6\" class=\"data row6 col6\" >6.540000</td>\n",
       "      <td id=\"T_3fbcf_row6_col7\" class=\"data row6 col7\" >1.14</td>\n",
       "      <td id=\"T_3fbcf_row6_col8\" class=\"data row6 col8\" >2.43</td>\n",
       "      <td id=\"T_3fbcf_row6_col9\" class=\"data row6 col9\" >91.21</td>\n",
       "    </tr>\n",
       "    <tr>\n",
       "      <th id=\"T_3fbcf_level0_row7\" class=\"row_heading level0 row7\" >z</th>\n",
       "      <td id=\"T_3fbcf_row7_col0\" class=\"data row7 col0\" >3.54</td>\n",
       "      <td id=\"T_3fbcf_row7_col1\" class=\"data row7 col1\" >3.53</td>\n",
       "      <td id=\"T_3fbcf_row7_col2\" class=\"data row7 col2\" >2.70</td>\n",
       "      <td id=\"T_3fbcf_row7_col3\" class=\"data row7 col3\" >0.000000</td>\n",
       "      <td id=\"T_3fbcf_row7_col4\" class=\"data row7 col4\" >31.800000</td>\n",
       "      <td id=\"T_3fbcf_row7_col5\" class=\"data row7 col5\" >2.910000</td>\n",
       "      <td id=\"T_3fbcf_row7_col6\" class=\"data row7 col6\" >4.040000</td>\n",
       "      <td id=\"T_3fbcf_row7_col7\" class=\"data row7 col7\" >0.71</td>\n",
       "      <td id=\"T_3fbcf_row7_col8\" class=\"data row7 col8\" >1.52</td>\n",
       "      <td id=\"T_3fbcf_row7_col9\" class=\"data row7 col9\" >47.09</td>\n",
       "    </tr>\n",
       "  </tbody>\n",
       "</table>\n"
      ],
      "text/plain": [
       "<pandas.io.formats.style.Styler at 0x1430ff442d0>"
      ]
     },
     "metadata": {},
     "output_type": "display_data"
    }
   ],
   "source": [
    "# Initialize storage for continuous column statistics\n",
    "continuous_stats = []\n",
    "\n",
    "for col in continuous_cols:\n",
    "    col_stats = {\n",
    "        'Column': col,\n",
    "        'Mean': df[col].mean(),\n",
    "        'Median': df[col].median(),\n",
    "        'Mode': df[col].mode().values[0],  # Take first mode if multimodal\n",
    "        'Min': df[col].min(),\n",
    "        'Max': df[col].max(),\n",
    "        '25%': df[col].quantile(0.25),\n",
    "        '75%': df[col].quantile(0.75),\n",
    "        'Std Dev': df[col].std(),\n",
    "        'Skewness': df[col].skew(),\n",
    "        'Kurtosis': df[col].kurt()\n",
    "    }\n",
    "    continuous_stats.append(col_stats)\n",
    "\n",
    "# Convert to DataFrame for nice display\n",
    "stats_df = pd.DataFrame(continuous_stats).set_index('Column')\n",
    "\n",
    "# Display with formatting\n",
    "print(\"📊 Continuous Column Statistics:\")\n",
    "display(stats_df.style.format({\n",
    "    'Mean': '{:.2f}',\n",
    "    'Median': '{:.2f}',\n",
    "    'Mode': '{:.2f}',\n",
    "    'Std Dev': '{:.2f}'\n",
    "}).background_gradient(cmap='Blues', subset=['Mean', 'Median', 'Std Dev']))"
   ]
  },
  {
   "cell_type": "code",
   "execution_count": 21,
   "id": "8bbfbcc1",
   "metadata": {},
   "outputs": [
    {
     "data": {
      "image/png": "[encoded data removed]",
      "text/plain": [
       "<Figure size 1000x800 with 2 Axes>"
      ]
     },
     "metadata": {},
     "output_type": "display_data"
    }
   ],
   "source": [
    "plt.figure(figsize=(10, 8))\n",
    "sns.heatmap(df[continuous_cols].corr(), annot=True, cmap='coolwarm', center=0)\n",
    "plt.title(\"Continuous Variable Correlations\")\n",
    "plt.show()"
   ]
  },
  {
   "cell_type": "code",
   "execution_count": 2,
   "id": "052880b2",
   "metadata": {},
   "outputs": [
    {
     "ename": "NameError",
     "evalue": "name 'df' is not defined",
     "output_type": "error",
     "traceback": [
      "\u001b[1;31m---------------------------------------------------------------------------\u001b[0m",
      "\u001b[1;31mNameError\u001b[0m                                 Traceback (most recent call last)",
      "Cell \u001b[1;32mIn[2], line 1\u001b[0m\n\u001b[1;32m----> 1\u001b[0m df[\u001b[38;5;124m'\u001b[39m\u001b[38;5;124mprice\u001b[39m\u001b[38;5;124m'\u001b[39m]\n",
      "\u001b[1;31mNameError\u001b[0m: name 'df' is not defined"
     ]
    }
   ],
   "source": [
    "df['price']"
   ]
  },
  {
   "cell_type": "markdown",
   "id": "4b465797",
   "metadata": {},
   "source": [
    "<h1>Analysis</h1>"
   ]
  },
  {
   "cell_type": "markdown",
   "id": "1220989e",
   "metadata": {},
   "source": [
    "<>h2>Analysis Goals</h2>\n",
    "1. Predicting price based on other features. Elastic Linear Reg, KNN, SVM, Neural Net. \n",
    "1.1 Are low correlation features worse predictors of price. \n",
    "2. Predicting if diamond will have better than average price. Decision Trees Elastic Log Reg, KNN, SVM, Neural Net \n",
    "\n"
   ]
  },
  {
   "cell_type": "code",
   "execution_count": null,
   "id": "79d80694",
   "metadata": {},
   "outputs": [],
   "source": []
  }
 ],
 "metadata": {
  "kernelspec": {
   "display_name": "base",
   "language": "python",
   "name": "python3"
  },
  "language_info": {
   "codemirror_mode": {
    "name": "ipython",
    "version": 3
   },
   "file_extension": ".py",
   "mimetype": "text/x-python",
   "name": "python",
   "nbconvert_exporter": "python",
   "pygments_lexer": "ipython3",
   "version": "3.11.5"
  }
 },
 "nbformat": 4,
 "nbformat_minor": 5
}
